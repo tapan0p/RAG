{
 "cells": [
  {
   "cell_type": "code",
   "execution_count": 16,
   "metadata": {},
   "outputs": [],
   "source": [
    "import os\n",
    "from langchain_community.document_loaders import PyPDFLoader\n",
    "from langchain_text_splitters import RecursiveCharacterTextSplitter\n",
    "from langchain_community.embeddings import OllamaEmbeddings\n",
    "from langchain.vectorstores import FAISS\n",
    "from langchain.chains import RetrievalQA\n",
    "from langchain.prompts import PromptTemplate\n",
    "from langchain_community.llms import Ollama\n",
    "import streamlit as st\n",
    "import warnings\n",
    "import pprint\n",
    "warnings.filterwarnings(\"ignore\")"
   ]
  },
  {
   "cell_type": "code",
   "execution_count": 5,
   "metadata": {},
   "outputs": [],
   "source": [
    "def replace_t_with_space(documents):\n",
    "        processed_docs = []\n",
    "        for doc in documents:\n",
    "            # Create a new document with processed content\n",
    "            doc.page_content = doc.page_content.replace('\\t', ' ')\n",
    "            processed_docs.append(doc)\n",
    "        return processed_docs"
   ]
  },
  {
   "cell_type": "code",
   "execution_count": 6,
   "metadata": {},
   "outputs": [],
   "source": [
    "def encode_pdf(path,chunk_size=2000,chunk_overlap=200):\n",
    "    \"\"\" \n",
    "    This method will chunk a pdf and then convert the chunks into embedding and store them into a vector database\n",
    "\n",
    "    Args:\n",
    "        path: path to the pdf file\n",
    "        chunk_size: paragraph length of each chunk\n",
    "        chunk_overlap: max amount of consicutive overlap between chunks\n",
    "\n",
    "    Return:\n",
    "        A fassi vector store containing the encoded pdf content\n",
    "    \"\"\"\n",
    "\n",
    "    # Load pdf documents\n",
    "    loader = PyPDFLoader(path,mode='page')\n",
    "    docs = loader.load()\n",
    "\n",
    "    # Load pdf documents into chunks\n",
    "    text_splitter = RecursiveCharacterTextSplitter(chunk_size=chunk_size,chunk_overlap=chunk_overlap,length_function=len)\n",
    "    texts = text_splitter.split_documents(docs)\n",
    "    texts = replace_t_with_space(texts)\n",
    "    embeddings = OllamaEmbeddings(model=\"nomic-embed-text:latest\")\n",
    "    vectorestore = FAISS.from_documents(texts,embeddings)\n",
    "    return vectorestore\n",
    "\n",
    "\n",
    "\n"
   ]
  },
  {
   "cell_type": "code",
   "execution_count": 7,
   "metadata": {},
   "outputs": [
    {
     "name": "stderr",
     "output_type": "stream",
     "text": [
      "C:\\Users\\mahat\\AppData\\Local\\Temp\\ipykernel_20700\\2401774918.py:22: LangChainDeprecationWarning: The class `OllamaEmbeddings` was deprecated in LangChain 0.3.1 and will be removed in 1.0.0. An updated version of the class exists in the :class:`~langchain-ollama package and should be used instead. To use it run `pip install -U :class:`~langchain-ollama` and import as `from :class:`~langchain_ollama import OllamaEmbeddings``.\n",
      "  embeddings = OllamaEmbeddings(model=\"nomic-embed-text:latest\")\n"
     ]
    }
   ],
   "source": [
    "doc_path = \"harry_potter_1.pdf\"\n",
    "vectorstore = encode_pdf(doc_path)"
   ]
  },
  {
   "cell_type": "code",
   "execution_count": 8,
   "metadata": {},
   "outputs": [],
   "source": [
    "retriver = vectorstore.as_retriever(search_kwargs={\"k\":2})"
   ]
  },
  {
   "cell_type": "code",
   "execution_count": null,
   "metadata": {},
   "outputs": [],
   "source": [
    "query = \"Where does harry potter lives?\"\n",
    "docs=retriver.invoke(query)"
   ]
  },
  {
   "cell_type": "code",
   "execution_count": null,
   "metadata": {},
   "outputs": [
    {
     "name": "stdout",
     "output_type": "stream",
     "text": [
      "doc no 0\n",
      "page_content='a Black boy even taller than Ron, joined Harry at the Gryffindor table.\n",
      "\"Turpin, Lisa,\" became a Ravenclaw and then it was Ron's turn. He was\n",
      "pale green by now. Harry crossed his fingers under the table and a\n",
      "second later the hat had shouted, \"GRYFFINDOR!\"\n",
      "Harry clapped loudly with the rest as Ron collapsed into the chair next\n",
      "to him.' metadata={'producer': 'Acrobat Distiller 4.0 for Windows', 'creator': 'Microsoft Word 8.0', 'creationdate': '2001-02-13T16:47:14+00:00', 'subject': 'Harry Potter', 'author': 'J.K. Rowling', 'moddate': '2005-11-26T18:01:39+02:00', 'title': \"Harry Potter, Book 1; The Sorcerer's Stone\", 'source': 'harry_potter_1.pdf', 'total_pages': 250, 'page': 97, 'page_label': '98'}\n",
      "doc no 1\n",
      "page_content='1\n",
      "Harry Potter and the Sorcerer's Stone\n",
      "CHAPTER ONE\n",
      "THE BOY WHO LIVED\n",
      "Mr. and Mrs. Dursley, of number four, Privet Drive, were proud to say\n",
      "that they were perfectly normal, thank you very much. They were the last\n",
      "people you'd expect to be involved in anything strange or mysterious,\n",
      "because they just didn't hold with such nonsense.\n",
      "Mr. Dursley was the director of a firm called Grunnings, which made\n",
      "drills. He was a big, beefy man with hardly any neck, although he did\n",
      "have a very large mustache. Mrs. Dursley was thin and blonde and had\n",
      "nearly twice the usual amount of neck, which came in very useful as she\n",
      "spent so much of her time craning over garden fences, spying on the\n",
      "neighbors. The Dursleys had a small son called Dudley and in their\n",
      "opinion there was no finer boy anywhere.\n",
      "The Dursleys had everything they wanted, but they also had a secret, and\n",
      "their greatest fear was that somebody would discover it. They didn't\n",
      "think they could bear it if anyone found out about the Potters. Mrs.\n",
      "Potter was Mrs. Dursley's sister, but they hadn't met for several years;\n",
      "in fact, Mrs. Dursley pretended she didn't have a sister, because her\n",
      "sister and her good-for-nothing husband were as unDursleyish as it was\n",
      "possible to be. The Dursleys shuddered to think what the neighbors would\n",
      "say if the Potters arrived in the street. The Dursleys knew that the\n",
      "Potters had a small son, too, but they had never even seen him. This boy\n",
      "was another good reason for keeping the Potters away; they didn't want\n",
      "Dudley mixing with a child like that.\n",
      "When Mr. and Mrs. Dursley woke up on the dull, gray Tuesday our story\n",
      "starts, there was nothing about the cloudy sky outside to suggest that\n",
      "strange and mysterious things would soon be happening all over the\n",
      "country. Mr. Dursley hummed as he picked out his most boring tie for\n",
      "work, and Mrs. Dursley gossiped away happily as she wrestled a screaming\n",
      "Dudley into his high chair.\n",
      "None of them noticed a large, tawny owl flutter past the window.' metadata={'producer': 'Acrobat Distiller 4.0 for Windows', 'creator': 'Microsoft Word 8.0', 'creationdate': '2001-02-13T16:47:14+00:00', 'subject': 'Harry Potter', 'author': 'J.K. Rowling', 'moddate': '2005-11-26T18:01:39+02:00', 'title': \"Harry Potter, Book 1; The Sorcerer's Stone\", 'source': 'harry_potter_1.pdf', 'total_pages': 250, 'page': 1, 'page_label': '2'}\n"
     ]
    }
   ],
   "source": [
    "for idx,doc in enumerate(docs):\n",
    "    print(f\"doc no {idx}\")\n",
    "    print(doc)"
   ]
  },
  {
   "cell_type": "code",
   "execution_count": 9,
   "metadata": {},
   "outputs": [
    {
     "name": "stderr",
     "output_type": "stream",
     "text": [
      "C:\\Users\\mahat\\AppData\\Local\\Temp\\ipykernel_20700\\1851056410.py:6: LangChainDeprecationWarning: The class `Ollama` was deprecated in LangChain 0.3.1 and will be removed in 1.0.0. An updated version of the class exists in the :class:`~langchain-ollama package and should be used instead. To use it run `pip install -U :class:`~langchain-ollama` and import as `from :class:`~langchain_ollama import OllamaLLM``.\n",
      "  llm = Ollama(model=\"qwen2.5:3b\")\n"
     ]
    }
   ],
   "source": [
    "prompt_template = \"\"\"Use the following context to answer the question. If you don’t know, say so.\n",
    "Context: {context}\n",
    "Question: {question}\n",
    "Answer: \"\"\"\n",
    "\n",
    "llm = Ollama(model=\"qwen2.5:3b\")\n",
    "prompt = PromptTemplate(template=prompt_template, input_variables=[\"context\", \"question\"])\n",
    "qa_chain = RetrievalQA.from_chain_type(\n",
    "    llm=llm,\n",
    "    chain_type=\"stuff\",\n",
    "    retriever=retriver,  # Fix typo from 'retriver' to 'retriever'\n",
    "    chain_type_kwargs={\"prompt\": prompt}  # Pass the prompt here\n",
    ")"
   ]
  },
  {
   "cell_type": "code",
   "execution_count": 10,
   "metadata": {},
   "outputs": [],
   "source": [
    "def chat(query):\n",
    "    result=qa_chain({\"query\":query})\n",
    "    return result[\"result\"]"
   ]
  },
  {
   "cell_type": "code",
   "execution_count": 17,
   "metadata": {},
   "outputs": [],
   "source": [
    "pp = pprint.PrettyPrinter(width=80)"
   ]
  },
  {
   "cell_type": "code",
   "execution_count": 20,
   "metadata": {},
   "outputs": [
    {
     "name": "stdout",
     "output_type": "stream",
     "text": [
      "('Based on the context provided, Harry Potter is traveling on a Hogwarts '\n",
      " 'Express train. The passage describes various carriages of the train where '\n",
      " 'students are gathered either to say goodbye or simply waiting for their '\n",
      " 'journey to begin. It mentions that many compartments are already packed with '\n",
      " 'students who are talking to their families through open windows and fighting '\n",
      " 'over seats inside. Some students have animals like toads in boxes, which '\n",
      " 'causes excitement among others due to the leg poking out of one of the '\n",
      " \"animal's boxes.\\n\"\n",
      " '\\n'\n",
      " 'The train is described as being filled with a crowd of people, including '\n",
      " 'those waiting for platforms nine and ten. The atmosphere on board the train '\n",
      " 'appears lively with conversations, laughter, and even some unpleasant sounds '\n",
      " 'from owls. Smoke drifts over the heads of people as they walk around the '\n",
      " 'crowded platform. \\n'\n",
      " '\\n'\n",
      " 'Harry Potter finally finds an empty compartment to place his owl Hedwig '\n",
      " 'inside and loads his trunk onto the train. Despite having difficulty lifting '\n",
      " 'it due to pain in his foot, he eventually manages to get it on board before '\n",
      " 'boarding himself.')\n"
     ]
    }
   ],
   "source": [
    "query = \"Describe the train in which harry potter travelling\"\n",
    "output=chat(query)\n",
    "pp.pprint(output)"
   ]
  }
 ],
 "metadata": {
  "kernelspec": {
   "display_name": "Python 3",
   "language": "python",
   "name": "python3"
  },
  "language_info": {
   "codemirror_mode": {
    "name": "ipython",
    "version": 3
   },
   "file_extension": ".py",
   "mimetype": "text/x-python",
   "name": "python",
   "nbconvert_exporter": "python",
   "pygments_lexer": "ipython3",
   "version": "3.11.7"
  }
 },
 "nbformat": 4,
 "nbformat_minor": 2
}
