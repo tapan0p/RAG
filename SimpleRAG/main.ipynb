{
 "cells": [
  {
   "cell_type": "code",
   "execution_count": null,
   "metadata": {},
   "outputs": [],
   "source": [
    "import os\n",
    "from langchain_community.document_loaders import PyPDFLoader\n",
    "from langchain_text_splitters import RecursiveCharacterTextSplitter\n",
    "from langchain_community.embeddings import OllamaEmbeddings\n",
    "from langchain.vectorstores import FAISS\n",
    "from langchain.chains import RetrievalQA\n",
    "from langchain.prompts import PromptTemplate\n",
    "from langchain_community.llms import Ollama\n",
    "import streamlit as st"
   ]
  },
  {
   "cell_type": "code",
   "execution_count": 75,
   "metadata": {},
   "outputs": [],
   "source": [
    "def replace_t_with_space(documents):\n",
    "        processed_docs = []\n",
    "        for doc in documents:\n",
    "            # Create a new document with processed content\n",
    "            doc.page_content = doc.page_content.replace('\\t', ' ')\n",
    "            processed_docs.append(doc)\n",
    "        return processed_docs"
   ]
  },
  {
   "cell_type": "code",
   "execution_count": 76,
   "metadata": {},
   "outputs": [],
   "source": [
    "def encode_pdf(path,chunk_size=2000,chunk_overlap=200):\n",
    "    \"\"\" \n",
    "    This method will chunk a pdf and then convert the chunks into embedding and store them into a vector database\n",
    "\n",
    "    Args:\n",
    "        path: path to the pdf file\n",
    "        chunk_size: paragraph length of each chunk\n",
    "        chunk_overlap: max amount of consicutive overlap between chunks\n",
    "\n",
    "    Return:\n",
    "        A fassi vector store containing the encoded pdf content\n",
    "    \"\"\"\n",
    "\n",
    "    # Load pdf documents\n",
    "    loader = PyPDFLoader(path,mode='page')\n",
    "    docs = loader.load()\n",
    "\n",
    "    # Load pdf documents into chunks\n",
    "    text_splitter = RecursiveCharacterTextSplitter(chunk_size=chunk_size,chunk_overlap=chunk_overlap,length_function=len)\n",
    "    texts = text_splitter.split_documents(docs)\n",
    "    texts = replace_t_with_space(texts)\n",
    "    embeddings = OllamaEmbeddings(model=\"nomic-embed-text:latest\")\n",
    "    vectorestore = FAISS.from_documents(texts,embeddings)\n",
    "    return vectorestore\n",
    "\n",
    "\n",
    "\n"
   ]
  },
  {
   "cell_type": "code",
   "execution_count": 77,
   "metadata": {},
   "outputs": [],
   "source": [
    "doc_path = \"harry_potter_1.pdf\"\n",
    "vectorstore = encode_pdf(doc_path)"
   ]
  },
  {
   "cell_type": "code",
   "execution_count": 78,
   "metadata": {},
   "outputs": [],
   "source": [
    "retriver = vectorstore.as_retriever(search_kwargs={\"k\":2})"
   ]
  },
  {
   "cell_type": "code",
   "execution_count": 79,
   "metadata": {},
   "outputs": [],
   "source": [
    "query = \"who are the father and mother of harry potter?\"\n",
    "docs=retriver.invoke(query)"
   ]
  },
  {
   "cell_type": "code",
   "execution_count": 84,
   "metadata": {},
   "outputs": [
    {
     "name": "stdout",
     "output_type": "stream",
     "text": [
      "doc no 0\n",
      "page_content='a Black boy even taller than Ron, joined Harry at the Gryffindor table.\n",
      "\"Turpin, Lisa,\" became a Ravenclaw and then it was Ron's turn. He was\n",
      "pale green by now. Harry crossed his fingers under the table and a\n",
      "second later the hat had shouted, \"GRYFFINDOR!\"\n",
      "Harry clapped loudly with the rest as Ron collapsed into the chair next\n",
      "to him.' metadata={'producer': 'Acrobat Distiller 4.0 for Windows', 'creator': 'Microsoft Word 8.0', 'creationdate': '2001-02-13T16:47:14+00:00', 'subject': 'Harry Potter', 'author': 'J.K. Rowling', 'moddate': '2005-11-26T18:01:39+02:00', 'title': \"Harry Potter, Book 1; The Sorcerer's Stone\", 'source': 'harry_potter_1.pdf', 'total_pages': 250, 'page': 97, 'page_label': '98'}\n",
      "doc no 1\n",
      "page_content='1\n",
      "Harry Potter and the Sorcerer's Stone\n",
      "CHAPTER ONE\n",
      "THE BOY WHO LIVED\n",
      "Mr. and Mrs. Dursley, of number four, Privet Drive, were proud to say\n",
      "that they were perfectly normal, thank you very much. They were the last\n",
      "people you'd expect to be involved in anything strange or mysterious,\n",
      "because they just didn't hold with such nonsense.\n",
      "Mr. Dursley was the director of a firm called Grunnings, which made\n",
      "drills. He was a big, beefy man with hardly any neck, although he did\n",
      "have a very large mustache. Mrs. Dursley was thin and blonde and had\n",
      "nearly twice the usual amount of neck, which came in very useful as she\n",
      "spent so much of her time craning over garden fences, spying on the\n",
      "neighbors. The Dursleys had a small son called Dudley and in their\n",
      "opinion there was no finer boy anywhere.\n",
      "The Dursleys had everything they wanted, but they also had a secret, and\n",
      "their greatest fear was that somebody would discover it. They didn't\n",
      "think they could bear it if anyone found out about the Potters. Mrs.\n",
      "Potter was Mrs. Dursley's sister, but they hadn't met for several years;\n",
      "in fact, Mrs. Dursley pretended she didn't have a sister, because her\n",
      "sister and her good-for-nothing husband were as unDursleyish as it was\n",
      "possible to be. The Dursleys shuddered to think what the neighbors would\n",
      "say if the Potters arrived in the street. The Dursleys knew that the\n",
      "Potters had a small son, too, but they had never even seen him. This boy\n",
      "was another good reason for keeping the Potters away; they didn't want\n",
      "Dudley mixing with a child like that.\n",
      "When Mr. and Mrs. Dursley woke up on the dull, gray Tuesday our story\n",
      "starts, there was nothing about the cloudy sky outside to suggest that\n",
      "strange and mysterious things would soon be happening all over the\n",
      "country. Mr. Dursley hummed as he picked out his most boring tie for\n",
      "work, and Mrs. Dursley gossiped away happily as she wrestled a screaming\n",
      "Dudley into his high chair.\n",
      "None of them noticed a large, tawny owl flutter past the window.' metadata={'producer': 'Acrobat Distiller 4.0 for Windows', 'creator': 'Microsoft Word 8.0', 'creationdate': '2001-02-13T16:47:14+00:00', 'subject': 'Harry Potter', 'author': 'J.K. Rowling', 'moddate': '2005-11-26T18:01:39+02:00', 'title': \"Harry Potter, Book 1; The Sorcerer's Stone\", 'source': 'harry_potter_1.pdf', 'total_pages': 250, 'page': 1, 'page_label': '2'}\n"
     ]
    }
   ],
   "source": [
    "for idx,doc in enumerate(docs):\n",
    "    print(f\"doc no {idx}\")\n",
    "    print(doc)"
   ]
  },
  {
   "cell_type": "code",
   "execution_count": 89,
   "metadata": {},
   "outputs": [],
   "source": [
    "prompt_template = \"\"\"Use the following context to answer the question. If you don’t know, say so.\n",
    "Context: {context}\n",
    "Question: {question}\n",
    "Answer: \"\"\"\n",
    "\n",
    "llm = Ollama(model=\"qwen2.5:3b\")\n",
    "prompt = PromptTemplate(template=prompt_template, input_variables=[\"context\", \"question\"])\n",
    "qa_chain = RetrievalQA.from_chain_type(\n",
    "    llm=llm,\n",
    "    chain_type=\"stuff\",\n",
    "    retriever=retriver,  # Fix typo from 'retriver' to 'retriever'\n",
    "    chain_type_kwargs={\"prompt\": prompt}  # Pass the prompt here\n",
    ")"
   ]
  },
  {
   "cell_type": "code",
   "execution_count": 94,
   "metadata": {},
   "outputs": [],
   "source": [
    "def chat(query):\n",
    "    result=qa_chain({\"query\":query})\n",
    "    return result[\"result\"]"
   ]
  },
  {
   "cell_type": "code",
   "execution_count": 95,
   "metadata": {},
   "outputs": [
    {
     "name": "stdout",
     "output_type": "stream",
     "text": [
      "Based on the context provided in \"Harry Potter and the Sorcerer's Stone\" (also known as Harry Potter and the Philosopher's Stone), Mr. and Mrs. Dursley are the parents of Harry Potter, not his biological parents. They live at number four, Privet Drive, and they have a small son called Dudley.\n",
      "\n",
      "The passage states:\n",
      "\n",
      "\"The Dursleys had everything they wanted, but they also had a secret, and their greatest fear was that somebody would discover it. They didn't think they could bear it if anyone found out about the Potters. Mrs. Potter was Mrs. Dursley's sister, but they hadn't met for several years; in fact, Mrs. Dursely pretended she didn't have a sister, because her sister and her good-for-nothing husband were as unDursleyish as it was possible to be.\"\n",
      "\n",
      "So, Mr. Dursley is the father of Harry Potter (by his marriage to the mother, who is not named in this context), and Mrs. Dursely is his mother. They are part of a fictitious household known as the Dursleys' that plays a significant role in establishing Harry's harsh living conditions at home before he discovers he's a wizard.\n"
     ]
    }
   ],
   "source": [
    "output=chat(query)\n",
    "print(output)"
   ]
  },
  {
   "cell_type": "code",
   "execution_count": 114,
   "metadata": {},
   "outputs": [],
   "source": [
    "def main():\n",
    "    st.title(\"QA Chatbot with Ollama\")\n",
    "    st.write(\"Ask any question based on the retrieved context.\")\n",
    "    \n",
    "    # User input\n",
    "    query = st.text_input(\"Enter your question:\")\n",
    "    if st.button(\"Ask\"):\n",
    "        if query:\n",
    "            response = chat(query)\n",
    "            st.write(\"### Answer:\")\n",
    "            st.write(response)\n",
    "        else:\n",
    "            st.warning(\"Please enter a question.\")\n",
    "\n",
    "    \n",
    "\n",
    "if __name__ == \"__main__\":\n",
    "    main()"
   ]
  }
 ],
 "metadata": {
  "kernelspec": {
   "display_name": "Python 3",
   "language": "python",
   "name": "python3"
  },
  "language_info": {
   "codemirror_mode": {
    "name": "ipython",
    "version": 3
   },
   "file_extension": ".py",
   "mimetype": "text/x-python",
   "name": "python",
   "nbconvert_exporter": "python",
   "pygments_lexer": "ipython3",
   "version": "3.11.7"
  }
 },
 "nbformat": 4,
 "nbformat_minor": 2
}
